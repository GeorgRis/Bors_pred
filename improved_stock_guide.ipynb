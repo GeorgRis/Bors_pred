{
 "cells": [
  {
   "cell_type": "markdown",
   "id": "9bd466e7",
   "metadata": {},
   "source": [
    "# 1. Project Overview\n",
    "This guide outlines the development of a machine learning system for stock research and analysis. The system will:\n",
    "\n",
    "Process historical market data\n",
    "Analyze financial news and reports\n",
    "Generate actionable investment insights\n",
    "\n",
    "# 2. Data Collection\n",
    "Historical Market Data\n",
    "\n",
    "Stock Price Data: Daily OHLCV (Open, High, Low, Close, Volume) data\n",
    "\n",
    "Sources: Yahoo Finance API, Alpha Vantage, Quandl\n",
    "Timeframe: At least 5-10 years of historical data\n",
    "Frequency: Daily data (minimum), hourly or minute-data for short-term models\n",
    "\n",
    "\n",
    "Financial Statements: Quarterly earnings reports, balance sheets, income statements\n",
    "\n",
    "Sources: SEC EDGAR database, Financial Modeling Prep API\n",
    "Metrics: P/E ratio, EPS, revenue growth, debt-to-equity ratio, etc.\n",
    "\n",
    "\n",
    "Economic Indicators: Interest rates, GDP growth, unemployment, inflation\n",
    "\n",
    "Sources: Federal Reserve Economic Data (FRED), World Bank API\n",
    "\n",
    "\n",
    "\n",
    "Alternative Data\n",
    "\n",
    "News and Social Media: Financial news articles, social media sentiment\n",
    "\n",
    "Sources: Bloomberg, Reuters, Twitter, Reddit r/wallstreetbets\n",
    "Tools: GDELT Project, NewsAPI\n",
    "\n",
    "\n",
    "Market Sentiment: Analyst ratings, trading volumes, options activity\n",
    "\n",
    "Sources: Seeking Alpha, Zacks, CBOE data"
   ]
  },
  {
   "cell_type": "markdown",
   "id": "09b252cb",
   "metadata": {},
   "source": [
    "# 3. Data Preprocessing\n",
    "Cleaning and Normalization"
   ]
  },
  {
   "cell_type": "code",
   "execution_count": null,
   "id": "2841c9d0",
   "metadata": {},
   "outputs": [],
   "source": [
    "import pandas as pd\n",
    "import numpy as np\n",
    "from sklearn.preprocessing import MinMaxScaler\n",
    "\n",
    "def preprocess_market_data(df):\n",
    "    # Fill missing values\n",
    "    df = df.fillna(method='ffill')\n",
    "    \n",
    "    # Calculate returns\n",
    "    df['returns'] = df['close'].pct_change()\n",
    "    \n",
    "    # Normalize price data\n",
    "    scaler = MinMaxScaler()\n",
    "    price_columns = ['open', 'high', 'low', 'close']\n",
    "    df[price_columns] = scaler.fit_transform(df[price_columns])\n",
    "    \n",
    "    # Log transform volume\n",
    "    df['volume'] = np.log(df['volume'] + 1)\n",
    "    \n",
    "    return df"
   ]
  },
  {
   "cell_type": "markdown",
   "id": "6ebef986",
   "metadata": {},
   "source": [
    "# Feature Engineering\n",
    "\n",
    "Technical indicators (create 20-30 features):\n",
    "\n",
    "Moving averages (5, 10, 20, 50, 200 days)\n",
    "RSI (Relative Strength Index)\n",
    "MACD (Moving Average Convergence Divergence)\n",
    "Bollinger Bands\n",
    "Volume indicators"
   ]
  },
  {
   "cell_type": "code",
   "execution_count": null,
   "id": "efc91f8d",
   "metadata": {},
   "outputs": [],
   "source": [
    "import talib\n",
    "\n",
    "def add_technical_indicators(df):\n",
    "    # Price indicators\n",
    "    df['ma5'] = talib.SMA(df['close'].values, timeperiod=5)\n",
    "    df['ma20'] = talib.SMA(df['close'].values, timeperiod=20)\n",
    "    df['ma50'] = talib.SMA(df['close'].values, timeperiod=50)\n",
    "    df['ma200'] = talib.SMA(df['close'].values, timeperiod=200)\n",
    "    \n",
    "    # Trend indicators\n",
    "    df['rsi'] = talib.RSI(df['close'].values, timeperiod=14)\n",
    "    \n",
    "    # Volatility indicators\n",
    "    df['bbands_upper'], df['bbands_middle'], df['bbands_lower'] = talib.BBANDS(\n",
    "        df['close'].values, timeperiod=20)\n",
    "    \n",
    "    # Volume indicators\n",
    "    df['obv'] = talib.OBV(df['close'].values, df['volume'].values)\n",
    "    \n",
    "    # Momentum indicators\n",
    "    df['macd'], df['macd_signal'], df['macd_hist'] = talib.MACD(\n",
    "        df['close'].values, fastperiod=12, slowperiod=26, signalperiod=9)\n",
    "    \n",
    "    return df"
   ]
  },
  {
   "cell_type": "markdown",
   "id": "765b7d25",
   "metadata": {},
   "source": [
    "# Text Data Processing\n",
    "\n",
    "Sentiment analysis of news and financial reports:\n",
    "\n",
    "Text cleaning (remove stop words, punctuation)\n",
    "Named entity recognition to identify company mentions\n",
    "Sentiment scoring (positive/negative/neutral)"
   ]
  },
  {
   "cell_type": "code",
   "execution_count": null,
   "id": "53dd13d0",
   "metadata": {},
   "outputs": [],
   "source": [
    "from transformers import pipeline\n",
    "import re\n",
    "\n",
    "def preprocess_news_data(news_df):\n",
    "    # Initialize sentiment analyzer\n",
    "    sentiment_analyzer = pipeline(\"sentiment-analysis\", \n",
    "                                model=\"finbert-sentiment\")\n",
    "    \n",
    "    # Clean text\n",
    "    news_df['clean_text'] = news_df['text'].apply(lambda x: re.sub(r'[^\\w\\s]', '', x.lower()))\n",
    "    \n",
    "    # Extract sentiment\n",
    "    news_df['sentiment'] = news_df['clean_text'].apply(\n",
    "        lambda x: sentiment_analyzer(x[:512])[0]['label'])\n",
    "    news_df['sentiment_score'] = news_df['clean_text'].apply(\n",
    "        lambda x: sentiment_analyzer(x[:512])[0]['score'])\n",
    "    \n",
    "    return news_df"
   ]
  },
  {
   "cell_type": "markdown",
   "id": "8296ab77",
   "metadata": {},
   "source": [
    "# 4. Model Architecture\n",
    "Time Series Forecasting Model\n",
    "\n",
    "LSTM Neural Network for price prediction:"
   ]
  },
  {
   "cell_type": "code",
   "execution_count": null,
   "id": "14ed7b52",
   "metadata": {},
   "outputs": [],
   "source": [
    "from tensorflow.keras.models import Sequential\n",
    "from tensorflow.keras.layers import LSTM, Dense, Dropout\n",
    "\n",
    "def create_lstm_model(input_shape):\n",
    "    model = Sequential()\n",
    "    model.add(LSTM(units=50, return_sequences=True, input_shape=input_shape))\n",
    "    model.add(Dropout(0.2))\n",
    "    model.add(LSTM(units=50, return_sequences=False))\n",
    "    model.add(Dropout(0.2))\n",
    "    model.add(Dense(units=25))\n",
    "    model.add(Dense(units=1)) # Output layer - predict next day's price\n",
    "    \n",
    "    model.compile(optimizer='adam', loss='mean_squared_error')\n",
    "    return model"
   ]
  },
  {
   "cell_type": "markdown",
   "id": "fd4a16e5",
   "metadata": {},
   "source": [
    "# Sentiment Analysis Model\n",
    "\n",
    "FinBERT (pre-trained BERT for financial text):"
   ]
  },
  {
   "cell_type": "code",
   "execution_count": null,
   "id": "ecbc20b0",
   "metadata": {},
   "outputs": [],
   "source": [
    "from transformers import AutoModelForSequenceClassification, AutoTokenizer\n",
    "\n",
    "def create_sentiment_model():\n",
    "    tokenizer = AutoTokenizer.from_pretrained(\"ProsusAI/finbert\")\n",
    "    model = AutoModelForSequenceClassification.from_pretrained(\"ProsusAI/finbert\")\n",
    "    return tokenizer, model"
   ]
  },
  {
   "cell_type": "markdown",
   "id": "80ee3650",
   "metadata": {},
   "source": [
    "Combined Model\n",
    "\n",
    "Ensemble approach combining price predictions and sentiment analysis:"
   ]
  },
  {
   "cell_type": "code",
   "execution_count": null,
   "id": "5ebdf223",
   "metadata": {},
   "outputs": [],
   "source": [
    "def predict_with_ensemble(price_model, sentiment_model, price_data, news_data):\n",
    "    # Get price prediction\n",
    "    price_pred = price_model.predict(price_data)\n",
    "    \n",
    "    # Get sentiment prediction\n",
    "    sentiment_pred = sentiment_model.predict(news_data)\n",
    "    \n",
    "    # Combine predictions (weighted average)\n",
    "    final_pred = 0.7 * price_pred + 0.3 * sentiment_pred\n",
    "    \n",
    "    return final_pred"
   ]
  },
  {
   "cell_type": "markdown",
   "id": "8aed7d21",
   "metadata": {},
   "source": [
    "# 5. Training Approach\n",
    "Data Splitting\n",
    "\n",
    "Training set: 70% of data\n",
    "Validation set: 15% of data\n",
    "Test set: 15% of data"
   ]
  },
  {
   "cell_type": "code",
   "execution_count": null,
   "id": "0d9a892b",
   "metadata": {},
   "outputs": [],
   "source": [
    "from sklearn.model_selection import train_test_split\n",
    "\n",
    "def prepare_training_data(df, seq_length=60):\n",
    "    # Create sequences\n",
    "    X = []\n",
    "    y = []\n",
    "    for i in range(seq_length, len(df)):\n",
    "        X.append(df.iloc[i-seq_length:i, :].values)\n",
    "        y.append(df.iloc[i, df.columns.get_loc('close')])\n",
    "    \n",
    "    X, y = np.array(X), np.array(y)\n",
    "    \n",
    "    # Split data\n",
    "    X_train, X_temp, y_train, y_temp = train_test_split(X, y, test_size=0.3, shuffle=False)\n",
    "    X_val, X_test, y_val, y_test = train_test_split(X_temp, y_temp, test_size=0.5, shuffle=False)\n",
    "    \n",
    "    return X_train, X_val, X_test, y_train, y_val, y_test"
   ]
  },
  {
   "cell_type": "markdown",
   "id": "90e937cf",
   "metadata": {},
   "source": [
    "# Model Training\n",
    "\n",
    "Hyperparameter tuning via grid search or Bayesian optimization\n",
    "Early stopping to prevent overfitting\n",
    "Learning rate scheduling for optimal convergence"
   ]
  },
  {
   "cell_type": "code",
   "execution_count": null,
   "id": "b247abe7",
   "metadata": {},
   "outputs": [],
   "source": [
    "from tensorflow.keras.callbacks import EarlyStopping, ModelCheckpoint\n",
    "\n",
    "def train_model(model, X_train, y_train, X_val, y_val):\n",
    "    early_stop = EarlyStopping(monitor='val_loss', patience=10)\n",
    "    model_checkpoint = ModelCheckpoint('best_model.h5', save_best_only=True)\n",
    "    \n",
    "    history = model.fit(\n",
    "        X_train, y_train,\n",
    "        epochs=100,\n",
    "        batch_size=32,\n",
    "        validation_data=(X_val, y_val),\n",
    "        callbacks=[early_stop, model_checkpoint],\n",
    "        verbose=1\n",
    "    )\n",
    "    \n",
    "    return history"
   ]
  },
  {
   "cell_type": "markdown",
   "id": "ed68ceec",
   "metadata": {},
   "source": [
    "# 6. Evaluation Metrics\n",
    "Technical Performance\n",
    "\n",
    "RMSE (Root Mean Squared Error)\n",
    "MAE (Mean Absolute Error)\n",
    "Directional Accuracy (correct prediction of up/down movements)"
   ]
  },
  {
   "cell_type": "code",
   "execution_count": null,
   "id": "81288cf3",
   "metadata": {},
   "outputs": [],
   "source": [
    "from sklearn.metrics import mean_squared_error, mean_absolute_error\n",
    "\n",
    "def evaluate_model(model, X_test, y_test):\n",
    "    predictions = model.predict(X_test)\n",
    "    \n",
    "    # Calculate error metrics\n",
    "    rmse = np.sqrt(mean_squared_error(y_test, predictions))\n",
    "    mae = mean_absolute_error(y_test, predictions)\n",
    "    \n",
    "    # Calculate directional accuracy\n",
    "    pred_direction = np.sign(predictions[1:] - predictions[:-1])\n",
    "    actual_direction = np.sign(y_test[1:] - y_test[:-1])\n",
    "    directional_accuracy = np.mean(pred_direction == actual_direction)\n",
    "    \n",
    "    return rmse, mae, directional_accuracy"
   ]
  },
  {
   "cell_type": "markdown",
   "id": "de30dd2f",
   "metadata": {},
   "source": [
    "Financial Performance\n",
    "\n",
    "Portfolio Returns using model signals\n",
    "Sharpe Ratio (risk-adjusted returns)\n",
    "Maximum Drawdown (worst performance period)\n",
    "\n"
   ]
  },
  {
   "cell_type": "code",
   "execution_count": null,
   "id": "a0cddf17",
   "metadata": {},
   "outputs": [],
   "source": [
    "def backtest_strategy(prices, predictions, initial_capital=10000):\n",
    "    # Generate buy/sell signals\n",
    "    signals = np.sign(predictions[1:] - predictions[:-1])\n",
    "    \n",
    "    # Calculate daily returns\n",
    "    daily_returns = prices[1:] / prices[:-1] - 1\n",
    "    \n",
    "    # Apply signals to returns (1-day lag for implementation feasibility)\n",
    "    strategy_returns = signals[:-1] * daily_returns[1:]\n",
    "    \n",
    "    # Calculate portfolio value\n",
    "    portfolio_value = initial_capital * np.cumprod(1 + strategy_returns)\n",
    "    \n",
    "    # Calculate metrics\n",
    "    total_return = (portfolio_value[-1] / initial_capital - 1) * 100\n",
    "    sharpe_ratio = np.mean(strategy_returns) / np.std(strategy_returns) * np.sqrt(252)\n",
    "    max_drawdown = np.max(np.maximum.accumulate(portfolio_value) - portfolio_value) / np.maximum.accumulate(portfolio_value)\n",
    "    \n",
    "    return total_return, sharpe_ratio, max_drawdown"
   ]
  },
  {
   "cell_type": "markdown",
   "id": "24e7d4b8",
   "metadata": {},
   "source": [
    "# 7. Implementation Pipeline\n",
    "Data Pipeline"
   ]
  },
  {
   "cell_type": "code",
   "execution_count": null,
   "id": "eb77c5f7",
   "metadata": {},
   "outputs": [],
   "source": [
    "def data_pipeline(ticker, start_date, end_date):\n",
    "    # Fetch historical market data\n",
    "    market_data = fetch_market_data(ticker, start_date, end_date)\n",
    "    market_data = preprocess_market_data(market_data)\n",
    "    market_data = add_technical_indicators(market_data)\n",
    "    \n",
    "    # Fetch news data\n",
    "    news_data = fetch_news_data(ticker, start_date, end_date)\n",
    "    news_data = preprocess_news_data(news_data)\n",
    "    \n",
    "    # Merge datasets\n",
    "    combined_data = merge_data(market_data, news_data)\n",
    "    \n",
    "    return combined_data"
   ]
  },
  {
   "cell_type": "code",
   "execution_count": null,
   "id": "8b064d0c",
   "metadata": {},
   "outputs": [],
   "source": [
    "def model_training_pipeline(data):\n",
    "    # Prepare data\n",
    "    X_train, X_val, X_test, y_train, y_val, y_test = prepare_training_data(data)\n",
    "    \n",
    "    # Create and train model\n",
    "    model = create_lstm_model(input_shape=(X_train.shape[1], X_train.shape[2]))\n",
    "    history = train_model(model, X_train, y_train, X_val, y_val)\n",
    "    \n",
    "    # Evaluate model\n",
    "    rmse, mae, dir_acc = evaluate_model(model, X_test, y_test)\n",
    "    print(f\"RMSE: {rmse}, MAE: {mae}, Directional Accuracy: {dir_acc}\")\n",
    "    \n",
    "    return model"
   ]
  },
  {
   "cell_type": "code",
   "execution_count": null,
   "id": "b2656610",
   "metadata": {},
   "outputs": [],
   "source": [
    "def prediction_pipeline(model, data, window_size=60):\n",
    "    # Prepare latest data\n",
    "    latest_data = data.tail(window_size).values\n",
    "    latest_data = latest_data.reshape(1, window_size, latest_data.shape[1])\n",
    "    \n",
    "    # Generate prediction\n",
    "    prediction = model.predict(latest_data)\n",
    "    \n",
    "    return prediction[0][0]"
   ]
  },
  {
   "cell_type": "markdown",
   "id": "3afc1865",
   "metadata": {},
   "source": [
    "# 8. Risk Management & Considerations\n",
    "Statistical Safeguards\n",
    "\n",
    "Confidence intervals for predictions\n",
    "Volatility adjustments for uncertain periods\n",
    "Ensemble methods to reduce model-specific risks\n",
    "\n",
    "Ethical and Regulatory Compliance\n",
    "\n",
    "Ensure the model doesn't violate insider trading regulations\n",
    "Transparent about model limitations to end users\n",
    "Regular validation against market benchmarks\n",
    "\n",
    "Performance Monitoring\n",
    "\n",
    "Create dashboard for monitoring model predictions vs. actuals\n",
    "Implement drift detection for early warning when model degrades\n",
    "Schedule regular retraining as new data becomes available\n",
    "\n",
    "# 9. Deployment Strategy\n",
    "Infrastructure\n",
    "\n",
    "Cloud-based deployment (AWS SageMaker or Azure ML)\n",
    "Containerization using Docker for consistency\n",
    "Automated pipeline for daily data updates and predictions"
   ]
  },
  {
   "cell_type": "code",
   "execution_count": null,
   "id": "07105001",
   "metadata": {},
   "outputs": [],
   "source": [
    "from fastapi import FastAPI\n",
    "import uvicorn\n",
    "\n",
    "app = FastAPI()\n",
    "\n",
    "@app.get(\"/predict/{ticker}\")\n",
    "async def predict_stock(ticker: str):\n",
    "    # Fetch latest data\n",
    "    latest_data = data_pipeline(ticker, start_date=None, end_date=None)\n",
    "    \n",
    "    # Generate prediction\n",
    "    prediction = prediction_pipeline(model, latest_data)\n",
    "    \n",
    "    return {\n",
    "        \"ticker\": ticker,\n",
    "        \"prediction\": float(prediction),\n",
    "        \"timestamp\": datetime.now().isoformat()\n",
    "    }\n",
    "\n",
    "if __name__ == \"__main__\":\n",
    "    uvicorn.run(app, host=\"0.0.0.0\", port=8000)"
   ]
  },
  {
   "cell_type": "markdown",
   "id": "40327819",
   "metadata": {},
   "source": [
    "# Visualization Interface\n",
    "\n",
    "Web dashboard for tracking predictions and performance\n",
    "Interactive charts for technical indicators\n",
    "News sentiment timeline aligned with price movements\n",
    "\n",
    "# 10. Further Improvements\n",
    "Advanced Techniques\n",
    "\n",
    "Reinforcement Learning for optimizing trading strategies\n",
    "Graph Neural Networks for modeling company relationships\n",
    "Transformer models for capturing long-term dependencies\n",
    "\n",
    "Alternative Data Integration\n",
    "\n",
    "Satellite imagery for retail activity\n",
    "Credit card transaction data for consumer spending\n",
    "Patent filings for innovation metrics\n",
    "Supply chain disruption data\n",
    "\n",
    "Market Regime Detection\n",
    "\n",
    "Identify bull/bear markets automatically\n",
    "Adapt model parameters based on volatility regime\n",
    "Use different models for different market conditions\n",
    "\n",
    "# 11. Conclusion\n",
    "Building an effective stock research ML model requires continuous development and refinement. This guide provides a comprehensive foundation, but success depends on:\n",
    "\n",
    "High-quality, diverse data sources\n",
    "Robust feature engineering\n",
    "Careful model selection and training\n",
    "Rigorous backtesting and evaluation\n",
    "Regular monitoring and updating\n",
    "\n",
    "Remember that even the best models cannot predict market crashes or unexpected events with certainty. Use this system as a decision support tool rather than a crystal ball."
   ]
  }
 ],
 "metadata": {
  "kernelspec": {
   "display_name": "Python 3",
   "language": "python",
   "name": "python3"
  },
  "language_info": {
   "name": "python",
   "version": "3.12.8"
  }
 },
 "nbformat": 4,
 "nbformat_minor": 5
}
